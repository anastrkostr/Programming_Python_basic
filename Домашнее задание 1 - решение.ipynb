{
 "cells": [
  {
   "cell_type": "markdown",
   "id": "52d3ae1e",
   "metadata": {},
   "source": [
    "### 1 "
   ]
  },
  {
   "cell_type": "code",
   "execution_count": 1,
   "id": "88e142b1",
   "metadata": {},
   "outputs": [
    {
     "data": {
      "text/plain": [
       "2.9999999999999996"
      ]
     },
     "execution_count": 1,
     "metadata": {},
     "output_type": "execute_result"
    }
   ],
   "source": [
    "s = 0\n",
    "for i in range(1, 101):\n",
    "    s += (1 - i)**2 / 2**i\n",
    "\n",
    "s"
   ]
  },
  {
   "cell_type": "markdown",
   "id": "3ca19b94",
   "metadata": {},
   "source": [
    "### 2"
   ]
  },
  {
   "cell_type": "code",
   "execution_count": 28,
   "id": "24c3f61d",
   "metadata": {},
   "outputs": [
    {
     "name": "stdout",
     "output_type": "stream",
     "text": [
      "121.00000000000001\n",
      "120.0\n"
     ]
    }
   ],
   "source": [
    "# Создать функцию 𝑑𝑒𝑝𝑜𝑠𝑖𝑡, принимающую следующие аргументы:\n",
    "#  𝑛 – сумма вложений (тип данных – int)\n",
    "#  𝑝𝑒𝑟𝑖𝑜𝑑 – количество лет (тип данных – int)\n",
    "#  𝑟𝑎𝑡𝑒 – ставка накоплений - % годовых (тип данных – int)\n",
    "\n",
    "def deposit(n, period, rate, cumulative=True):\n",
    "    # Функция должна высчитать денежную сумму на конец срока депозита\n",
    "    if not cumulative:\n",
    "        # и вернуть ее в качестве ответа (тип ответа – int)\n",
    "        return n * (1 + rate/100 * period)\n",
    "\n",
    "    else:\n",
    "        # и вернуть ее в качестве ответа (тип ответа – int)\n",
    "        return n * (1 + rate/100)**period\n",
    "\n",
    "# проверка работы функции\n",
    "print(deposit(100, 2, 10))\n",
    "print(deposit(100, 2, 10, False))"
   ]
  },
  {
   "cell_type": "markdown",
   "id": "3c598ba8",
   "metadata": {},
   "source": [
    "### 3 - вариант 1"
   ]
  },
  {
   "cell_type": "code",
   "execution_count": 54,
   "id": "5be7703e",
   "metadata": {},
   "outputs": [],
   "source": [
    "import requests\n",
    "from bs4 import BeautifulSoup as bs\n",
    "import time"
   ]
  },
  {
   "cell_type": "code",
   "execution_count": 221,
   "id": "aa99fc5a",
   "metadata": {},
   "outputs": [],
   "source": [
    "# сначала следует создать все функции ниже, затем прогнать следующий блок кода (он их использует)"
   ]
  },
  {
   "cell_type": "code",
   "execution_count": 219,
   "id": "1eefd83b",
   "metadata": {},
   "outputs": [
    {
     "name": "stdout",
     "output_type": "stream",
     "text": [
      "{'authors': ['Перцев Е.М.'], 'name': 'Перцев Е.М. в программном комитете конференции VI Межфакультетская научно-практическая студенческая конференция на английском языке \"Страна изучаемого языка в сфере гуманитарных наук\" (МГУ имени М.В. Ломоносова, Россия, 14-19 марта 2022)', 'year': 2022, 'date_added': 'сегодня', 'link': 'https://istina.msu.ru/conferences/committee_memberships/444066624/'}\n",
      "total of 150 observations\n"
     ]
    }
   ],
   "source": [
    "# необходимо собрать данные из интернета. Данные представляют собой переменную типа список.\n",
    "data = []\n",
    "\n",
    "# Написать код, который будет итерироваться по страницам последних работ за месяц.\n",
    "# возьмем pages страниц:\n",
    "pages = 5\n",
    "for i in range(pages):\n",
    "    # немного красоты для души\n",
    "    print_progress(i, pages)\n",
    "\n",
    "    # дальше по заданию\n",
    "    url = get_url(i)\n",
    "    page = requests.get(url)\n",
    "    # При выполнении запросов в интернет через python, особенно запросов, находящихся в цикле, обязательно вставьте строку `time.sleep(n)`,\n",
    "    time.sleep(1)\n",
    "    \n",
    "    # На каждой странице собрать данные по всем работам на этой странице по определенным переменным.\n",
    "    rows = collect_page_data(page)\n",
    "    data += rows\n",
    "\n",
    "print_progress(i, pages)\n",
    "\n",
    "print(data[0])\n",
    "print('total of', len(data), 'observations')"
   ]
  },
  {
   "cell_type": "code",
   "execution_count": 209,
   "id": "826f25ea",
   "metadata": {},
   "outputs": [],
   "source": [
    "def print_progress(current, total):\n",
    "    current_percent = current / total\n",
    "    n_symbols = 30\n",
    "    to_fill = int(current_percent * n_symbols)\n",
    "    not_to_fill = n_symbols - to_fill\n",
    "\n",
    "    print('[' + '#'*to_fill + ' '*not_to_fill + ']', end='\\r')"
   ]
  },
  {
   "cell_type": "code",
   "execution_count": 210,
   "id": "dc6bf8db",
   "metadata": {},
   "outputs": [],
   "source": [
    "def get_url(page):\n",
    "    return \"https://istina.msu.ru/statistics/last_month_activities/?&p=\" + str(page)"
   ]
  },
  {
   "cell_type": "code",
   "execution_count": 211,
   "id": "ea80dc52",
   "metadata": {},
   "outputs": [],
   "source": [
    "def collect_page_data(page):\n",
    "    soup = bs(page.text)\n",
    "\n",
    "    tables = soup.find_all('table')\n",
    "    # таблица с данными не найдена, на странице 0 наблюдений, вернем пустой список\n",
    "    if len(tables) < 2:\n",
    "        return []\n",
    "\n",
    "    observations = tables[1].find_all('tr', recursive=False)\n",
    "\n",
    "    page_data = []\n",
    "    for observation in observations:\n",
    "        authors = get_authors(observation)\n",
    "        name = get_name(observation)\n",
    "        year = get_year(observation)\n",
    "        date_added = get_date_added(observation)\n",
    "        link = get_link(observation)\n",
    "\n",
    "        # Каждое наблюдение в этом списке – словарь, где ключ словаря – строка (название переменной), значение – значение этого наблюдения.\n",
    "        page_data.append({\n",
    "            \"authors\": authors,\n",
    "            \"name\": name,\n",
    "            \"year\": year,\n",
    "            \"date_added\": date_added,\n",
    "            \"link\": link,\n",
    "        })\n",
    "\n",
    "    return page_data"
   ]
  },
  {
   "cell_type": "code",
   "execution_count": 212,
   "id": "71471cfb",
   "metadata": {},
   "outputs": [],
   "source": [
    "def get_authors(observation):\n",
    "    td_tags = observation.find_all('td')\n",
    "    if len(td_tags) < 2:\n",
    "        return None\n",
    "    \n",
    "    tag_with_authors = td_tags[1]\n",
    "    children_tags = list(tag_with_authors.children)\n",
    "    if len(children_tags) < 5:\n",
    "        return None\n",
    "    \n",
    "    authors_string = children_tags[-1].strip()\n",
    "    if not authors_string:\n",
    "        return None\n",
    "    \n",
    "    return authors_string.split(', ')"
   ]
  },
  {
   "cell_type": "code",
   "execution_count": 213,
   "id": "822cf2ee",
   "metadata": {},
   "outputs": [],
   "source": [
    "def get_name(observation):\n",
    "    a_tag = observation.find('a')\n",
    "    if not a_tag:\n",
    "        return None\n",
    "    \n",
    "    return a_tag.text.strip()"
   ]
  },
  {
   "cell_type": "code",
   "execution_count": 214,
   "id": "2e857584",
   "metadata": {},
   "outputs": [],
   "source": [
    "def get_year(observation):\n",
    "    year = observation.find('b')\n",
    "    if year:\n",
    "        return int(year.text)"
   ]
  },
  {
   "cell_type": "code",
   "execution_count": 215,
   "id": "5b88d401",
   "metadata": {},
   "outputs": [],
   "source": [
    "def get_date_added(observation):\n",
    "    tag = observation.find('td')\n",
    "    if not tag:\n",
    "        return None\n",
    "    \n",
    "    return tag.text.strip()"
   ]
  },
  {
   "cell_type": "code",
   "execution_count": 216,
   "id": "cc132997",
   "metadata": {},
   "outputs": [],
   "source": [
    "def get_link(observation):\n",
    "    base_url = \"https://istina.msu.ru\"\n",
    "\n",
    "    tag_with_link = observation.find('a')\n",
    "    if not tag_with_link:\n",
    "        return None\n",
    "    \n",
    "    tag_attributes = tag_with_link.attrs\n",
    "    if 'href' not in tag_attributes:\n",
    "        return None\n",
    "\n",
    "    return base_url + tag_attributes['href']"
   ]
  },
  {
   "cell_type": "markdown",
   "id": "e59cbdb4",
   "metadata": {},
   "source": [
    "### 3 - вариант 2"
   ]
  },
  {
   "cell_type": "code",
   "execution_count": 54,
   "id": "551d1ac0",
   "metadata": {},
   "outputs": [],
   "source": [
    "import requests\n",
    "from bs4 import BeautifulSoup as bs\n",
    "import time"
   ]
  },
  {
   "cell_type": "code",
   "execution_count": null,
   "id": "5319a1a2",
   "metadata": {},
   "outputs": [],
   "source": [
    "# сначала следует создать все функции ниже, затем прогнать следующий блок кода (он их использует)"
   ]
  },
  {
   "cell_type": "code",
   "execution_count": 295,
   "id": "63d29c4a",
   "metadata": {},
   "outputs": [
    {
     "name": "stdout",
     "output_type": "stream",
     "text": [
      "{'name': 'NGC 7800', 'url': 'https://ru.wikipedia.org/wiki/NGC_7800', 'definition': 'NGC 7800 (другие обозначения — PGC 73177, UGC 12885, MCG 2-1-7, ZWG 433.12, KUG 2357+145, IRAS23570+1431) — галактика в созвездии Пегас.', 'date': '7 декабря 2021', 'page_confirmed': True}\n",
      "total of 50 observations\n"
     ]
    }
   ],
   "source": [
    "# Найти URL, который вызывается при нажатии на эту ссылку (см. что такое href)\n",
    "url = \"https://ru.wikipedia.org/wiki/%D0%A1%D0%BB%D1%83%D0%B6%D0%B5%D0%B1%D0%BD%D0%B0%D1%8F:%D0%A1%D0%BB%D1%83%D1%87%D0%B0%D0%B9%D0%BD%D0%B0%D1%8F_%D1%81%D1%82%D1%80%D0%B0%D0%BD%D0%B8%D1%86%D0%B0\"\n",
    "\n",
    "# необходимо собрать данные из интернета. Данные представляют собой переменную типа список.\n",
    "data = []\n",
    "\n",
    "# Написать код, который будет заданное количество раз ...\n",
    "iterations = 50\n",
    "for i in range(iterations):\n",
    "    # немного красоты для души\n",
    "    print_progress(i, iterations)\n",
    "\n",
    "    # выполнять запрос на получение случайной статьи в Wikipedia\n",
    "    response = requests.get(url)\n",
    "    # При выполнении запросов в интернет через python, особенно запросов, находящихся в цикле, обязательно вставьте строку `time.sleep(n)`,\n",
    "    time.sleep(1)\n",
    "    \n",
    "    soup = bs(response.text)\n",
    "    \n",
    "    name = get_name(soup)\n",
    "    url = get_url(response)\n",
    "    definition = get_definition(soup)\n",
    "    date = get_date(soup)\n",
    "    page_confirmed = get_page_confirmed(soup)\n",
    "\n",
    "    # Каждое наблюдение в этом списке – словарь, где ключ словаря – строка (название переменной), значение – значение этого наблюдения.\n",
    "    data.append({\n",
    "        \"name\": name,\n",
    "        \"url\": url,\n",
    "        \"definition\": definition,\n",
    "        \"date\": date,\n",
    "        \"page_confirmed\": page_confirmed,\n",
    "    })\n",
    "\n",
    "print_progress(i, iterations)\n",
    "\n",
    "print(data[0])\n",
    "print('total of', len(data), 'observations')"
   ]
  },
  {
   "cell_type": "code",
   "execution_count": 279,
   "id": "0599d1a6",
   "metadata": {},
   "outputs": [],
   "source": [
    "def print_progress(current, total):\n",
    "    current_percent = current / total\n",
    "    n_symbols = 30\n",
    "    to_fill = int(current_percent * n_symbols)\n",
    "    not_to_fill = n_symbols - to_fill\n",
    "\n",
    "    print('[' + '#'*to_fill + ' '*not_to_fill + ']', end='\\r')"
   ]
  },
  {
   "cell_type": "code",
   "execution_count": 280,
   "id": "4f18fb41",
   "metadata": {},
   "outputs": [],
   "source": [
    "def get_name(observation):\n",
    "    name = observation.find(\"h1\")\n",
    "    if not name:\n",
    "        return None\n",
    "    \n",
    "    return name.text"
   ]
  },
  {
   "cell_type": "code",
   "execution_count": 281,
   "id": "f8e9466f",
   "metadata": {},
   "outputs": [],
   "source": [
    "def get_url(response):\n",
    "    return response.url"
   ]
  },
  {
   "cell_type": "code",
   "execution_count": 282,
   "id": "5dab20dc",
   "metadata": {},
   "outputs": [],
   "source": [
    "def get_definition(observation):\n",
    "    mw_content_text = observation.find('div', {'id': 'mw-content-text'})\n",
    "    if not mw_content_text:\n",
    "        return None\n",
    "    \n",
    "    definition = mw_content_text.find('p')\n",
    "    if not definition:\n",
    "        return None\n",
    "    \n",
    "    return definition.text.strip()"
   ]
  },
  {
   "cell_type": "code",
   "execution_count": 283,
   "id": "bd7c06c8",
   "metadata": {},
   "outputs": [],
   "source": [
    "def get_date(observation):\n",
    "    date_tag = observation.find('li', {'id': 'footer-info-lastmod'})\n",
    "    if not date_tag:\n",
    "        return None\n",
    "    \n",
    "    date_text = date_tag.text.strip()\n",
    "    text_extra_prefix = \"Эта страница в последний раз была отредактирована\"\n",
    "    \n",
    "    date_text_without_prefix = date_text[len(text_extra_prefix):].strip()\n",
    "    date_text_without_prefix_and_time = date_text_without_prefix.split(' в ')[0].strip()\n",
    "    \n",
    "    return date_text_without_prefix_and_time"
   ]
  },
  {
   "cell_type": "code",
   "execution_count": 286,
   "id": "1bf72e4f",
   "metadata": {},
   "outputs": [],
   "source": [
    "def get_page_confirmed(observation):\n",
    "    not_confirmed = \"Текущая версия страницы пока не проверялась\" in observation.text\n",
    "    return not not_confirmed"
   ]
  }
 ],
 "metadata": {
  "kernelspec": {
   "display_name": "Python 3 (ipykernel)",
   "language": "python",
   "name": "python3"
  },
  "language_info": {
   "codemirror_mode": {
    "name": "ipython",
    "version": 3
   },
   "file_extension": ".py",
   "mimetype": "text/x-python",
   "name": "python",
   "nbconvert_exporter": "python",
   "pygments_lexer": "ipython3",
   "version": "3.10.1"
  }
 },
 "nbformat": 4,
 "nbformat_minor": 5
}
