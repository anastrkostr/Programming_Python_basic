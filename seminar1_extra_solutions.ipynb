{
 "cells": [
  {
   "cell_type": "markdown",
   "id": "98912b6c",
   "metadata": {},
   "source": [
    "## Переменные, типы данных и операции"
   ]
  },
  {
   "cell_type": "markdown",
   "id": "83cba386",
   "metadata": {},
   "source": [
    "Что нужно знать:\n",
    "\n",
    "1. Базовые типы данных: str, int, float, list, dict\n",
    "2. Что будет, если выполнить операции сложения, умножения, вычитания объекта определенного типа данных с другим объектом ТАКОГО ЖЕ типа данных\n",
    "3. Что будет, если выполнить операции сложения, умножения, вычитания объекта определенного типа данных с другим объектом ДРУГОГО типа данных\n",
    "4. Как добавить к списку значение, как убрать из списка значение? Как изменить значение в списке по индексу?\n",
    "5. Как добавить пару ключ, значение в словарь? Как изменить значение в словаре по ключу?\n",
    "6. Индексация строк, списков, словарей"
   ]
  },
  {
   "cell_type": "markdown",
   "id": "3fc2eee1",
   "metadata": {},
   "source": [
    "**Создать переменную x, равную -10. Прибавить к ней -2*x и вывести результат на экран в одно действие**"
   ]
  },
  {
   "cell_type": "code",
   "execution_count": 1,
   "id": "013defcb",
   "metadata": {},
   "outputs": [
    {
     "name": "stdout",
     "output_type": "stream",
     "text": [
      "10\n"
     ]
    }
   ],
   "source": [
    "x = -10\n",
    "print(x + (-2)*x)"
   ]
  },
  {
   "cell_type": "code",
   "execution_count": null,
   "id": "2322eef8",
   "metadata": {},
   "outputs": [],
   "source": []
  },
  {
   "cell_type": "markdown",
   "id": "c305dc09",
   "metadata": {},
   "source": [
    "**Создать переменную hours_total, равную 74. Создать переменную days, равную hours, деленная на 24 без остатка. Создать переменную hours, равную остатку от деления hours_total на 24. Вывести на экран 2 сообщения: \"days дней\", \"hours часов\", где вместо days и hours стоят соответствующие числа**"
   ]
  },
  {
   "cell_type": "code",
   "execution_count": 2,
   "id": "82520e2f",
   "metadata": {},
   "outputs": [
    {
     "name": "stdout",
     "output_type": "stream",
     "text": [
      "3 дней\n",
      "2 часов\n"
     ]
    }
   ],
   "source": [
    "hours_total = 74\n",
    "days = hours_total // 24\n",
    "hours = hours_total % 24\n",
    "print(days, \"дней\")\n",
    "print(hours, \"часов\")"
   ]
  },
  {
   "cell_type": "code",
   "execution_count": null,
   "id": "c55b1429",
   "metadata": {},
   "outputs": [],
   "source": []
  },
  {
   "cell_type": "markdown",
   "id": "f3bed4fb",
   "metadata": {},
   "source": [
    "**Создать переменную x, равную 10. Создать переменную y, равную x^2. Вывести на экран сообщение \"(x, y)\", где вместо x и y стоят их значения. Обратить внимание на пробелы между символами. Следует перевести переменные в тип str, затем сложить все подстроки для формирования сообщения**"
   ]
  },
  {
   "cell_type": "code",
   "execution_count": 3,
   "id": "a7543aaa",
   "metadata": {},
   "outputs": [
    {
     "name": "stdout",
     "output_type": "stream",
     "text": [
      "(10, 100)\n"
     ]
    }
   ],
   "source": [
    "x = 10\n",
    "y = x**2\n",
    "\n",
    "print(\"(\" + str(x) + \", \" + str(y) + \")\")"
   ]
  },
  {
   "cell_type": "code",
   "execution_count": null,
   "id": "5ab4b46c",
   "metadata": {},
   "outputs": [],
   "source": []
  },
  {
   "cell_type": "markdown",
   "id": "44dce83f",
   "metadata": {},
   "source": [
    "**Создать строку \"Hello, Rob\" и сохранить ее в переменную greeting. Вывести на экран первый элемент строки. Вывести на экран сред с первого по 5 (не включительно) элементы строки. Вывести на экран последний элемент строки**"
   ]
  },
  {
   "cell_type": "code",
   "execution_count": 4,
   "id": "c66483b7",
   "metadata": {},
   "outputs": [
    {
     "name": "stdout",
     "output_type": "stream",
     "text": [
      "H\n",
      "Hello\n",
      "b\n"
     ]
    }
   ],
   "source": [
    "greeting = \"Hello, Rob\"\n",
    "print(greeting[0])\n",
    "print(greeting[:5])\n",
    "print(greeting[-1])"
   ]
  },
  {
   "cell_type": "code",
   "execution_count": null,
   "id": "3ba0b8ef",
   "metadata": {},
   "outputs": [],
   "source": []
  },
  {
   "cell_type": "markdown",
   "id": "e8a6b304",
   "metadata": {},
   "source": [
    "**Создать список**\n",
    "```python\n",
    "[\n",
    "    {\"a\": -1, \"b\": 2},\n",
    "    {\"a\": 13, \"b\": -10},\n",
    "    {\"a\": 7, \"b\": 24},\n",
    "]\n",
    "```\n",
    "**и сохранить его в переменную data.**\n",
    "1. Какого типа данных каждый элемент списка?\n",
    "2. Какого типа данных ключи каждого элемента списка?\n",
    "3. Какого типа данных значения каждого элемента списка?"
   ]
  },
  {
   "cell_type": "markdown",
   "id": "75226267",
   "metadata": {},
   "source": [
    "1. Словарь dict\n",
    "2. Строка str\n",
    "3. Челое число int"
   ]
  },
  {
   "cell_type": "code",
   "execution_count": null,
   "id": "24e5c1ad",
   "metadata": {},
   "outputs": [],
   "source": []
  },
  {
   "cell_type": "markdown",
   "id": "784ca352",
   "metadata": {},
   "source": [
    "**Создать словарь, где ключами будут индексы списка `l = [[1, 2], [\"hi\", \"from\", \"russia\"], []]`, а значениями - длины соответсвующих индексам вложенных списков. Словарь сохранить в переменную d. Вывести на экран значения словаря по ключу 1**"
   ]
  },
  {
   "cell_type": "code",
   "execution_count": 5,
   "id": "a2b97541",
   "metadata": {},
   "outputs": [
    {
     "name": "stdout",
     "output_type": "stream",
     "text": [
      "3\n"
     ]
    }
   ],
   "source": [
    "l = [[1, 2], [\"hi\", \"from\", \"russia\"], []]\n",
    "d = {\n",
    "    0: len(l[0]),\n",
    "    1: len(l[1]),\n",
    "    2: len(l[2]),\n",
    "}\n",
    "print(d[1])"
   ]
  },
  {
   "cell_type": "code",
   "execution_count": null,
   "id": "f0b45369",
   "metadata": {},
   "outputs": [],
   "source": []
  },
  {
   "cell_type": "markdown",
   "id": "424147f5",
   "metadata": {},
   "source": [
    "**Создать переменную r - ставка дисконтирования, равную `\"15%\"`, создать переменную cf, равную `[1000, 900, 1200]`. Перевести переменную r в число `0.15`, посчитать сумму дисконтированных денежных потоков**"
   ]
  },
  {
   "cell_type": "code",
   "execution_count": 6,
   "id": "d857d16f",
   "metadata": {},
   "outputs": [],
   "source": [
    "r = \"15%\"\n",
    "cf = [1000, 900, 1200]"
   ]
  },
  {
   "cell_type": "code",
   "execution_count": null,
   "id": "d6091ac4",
   "metadata": {},
   "outputs": [],
   "source": []
  },
  {
   "cell_type": "markdown",
   "id": "23de55af",
   "metadata": {},
   "source": [
    "**Создать переменную l1, равную `[1000, 900, 1200]`, создать переменную l2, где будут все значения списка l1 и одно новое - 1175. Создать переменную l3, где будут все значения l2 и все значения списка `[1400, 1363]`. Вывести на экран все 3 списка, убедиться, что во всех трех списках правильные значения**"
   ]
  },
  {
   "cell_type": "code",
   "execution_count": 7,
   "id": "ea77d1f9",
   "metadata": {},
   "outputs": [
    {
     "name": "stdout",
     "output_type": "stream",
     "text": [
      "[1000, 900, 1200]\n",
      "[1000, 900, 1200, 1175]\n",
      "[1000, 900, 1200, 1175, 1400, 1363]\n",
      "l_test: None\n",
      "l1: [1000, 900, 1200, 1175]\n"
     ]
    }
   ],
   "source": [
    "l1 = [1000, 900, 1200]\n",
    "l2 = l1 + [1175]\n",
    "l3 = l2 + [1400, 1363]\n",
    "\n",
    "print(l1)\n",
    "print(l2)\n",
    "print(l3)\n",
    "\n",
    "# создавать список l2 через .append(1175) не получится,\n",
    "# т.к. этот метод модифицирует существующий список, а не создает новый, в чем можно убдиться:\n",
    "l_test = l1.append(1175)\n",
    "\n",
    "print(\"l_test:\", l_test)\n",
    "print(\"l1:\", l1)"
   ]
  },
  {
   "cell_type": "code",
   "execution_count": null,
   "id": "a30ab9f2",
   "metadata": {},
   "outputs": [],
   "source": []
  }
 ],
 "metadata": {
  "kernelspec": {
   "display_name": "Python 3 (ipykernel)",
   "language": "python",
   "name": "python3"
  },
  "language_info": {
   "codemirror_mode": {
    "name": "ipython",
    "version": 3
   },
   "file_extension": ".py",
   "mimetype": "text/x-python",
   "name": "python",
   "nbconvert_exporter": "python",
   "pygments_lexer": "ipython3",
   "version": "3.8.10"
  }
 },
 "nbformat": 4,
 "nbformat_minor": 5
}
